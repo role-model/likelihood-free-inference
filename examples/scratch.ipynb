{
 "cells": [
  {
   "cell_type": "code",
   "execution_count": 11,
   "metadata": {},
   "outputs": [],
   "source": [
    "from roler.model import ModelPrior, ModelParams\n",
    "from roler.distributions import *"
   ]
  },
  {
   "cell_type": "code",
   "execution_count": null,
   "metadata": {},
   "outputs": [],
   "source": [
    "prior = ModelPrior(\n",
    "    individuals_local=IntDistribution(100, 10**8),\n",
    "    add_individuals_meta=IntDistribution(100, 10**8),\n",
    "    \n",
    "    prop_species_meta=FloatDistribution(0.0, 1.0),\n",
    "    speciation_local=FloatDistribution(0.0001, 0.9999),\n",
    "    speciation_meta=FloatDistribution(0.01, 1.0),\n",
    "    \n",
    "    extinction_meta=FloatDistribution(0.01, 1.0),\n",
    "    env_sigma=FloatDistribution(0.0001, 1000.0),\n",
    "    trait_sigma=FloatDistribution(0.0001, 1000.0),\n",
    "    comp_sigma=FloatDistribution(0.0001, 1000.0),\n",
    "    dispersal_prob=FloatDistribution(0.0, 1.0),\n",
    "    mutation_rate=FloatDistribution(1e-7, 0.001),\n",
    "    equilib_escape=FloatDistribution(0.0, 1.0),\n",
    "    num_basepairs=250,\n",
    "\n",
    "    alpha=FloatDistribution(1.0, 10**6),\n",
    "    neut_delta=FloatDistribution(0.0, 1.0),\n",
    "    env_comp_delta=FloatDistribution(0.0, 1.0),\n",
    "\n",
    "    init_type='oceanic_island',\n",
    "    niter=10000,\n",
    "    niterTimestep=10,\n",
    ")"
   ]
  },
  {
   "cell_type": "code",
   "execution_count": 17,
   "metadata": {},
   "outputs": [
    {
     "data": {
      "text/plain": [
       "tensor([6.9768e+06, 3.3649e+07, 3.4052e-01, 6.7651e-01, 2.5547e-01, 6.9726e-01,\n",
       "        4.0881e+01, 8.4624e+01, 2.9749e+02, 8.2208e-01, 4.7713e-04, 5.8151e-01,\n",
       "        8.3345e+05, 1.2583e-01, 8.5615e-01])"
      ]
     },
     "execution_count": 17,
     "metadata": {},
     "output_type": "execute_result"
    }
   ],
   "source": [
    "sample = prior.sample()\n",
    "sample"
   ]
  },
  {
   "cell_type": "code",
   "execution_count": 18,
   "metadata": {},
   "outputs": [
    {
     "data": {
      "text/plain": [
       "ModelParams(individuals_local=6976828, individuals_meta=40625648, species_meta=13834021, speciation_local=0.6765131950378418, speciation_meta=0.25546738505363464, extinction_meta=0.6972579956054688, env_sigma=40.881072998046875, trait_sigma=84.6239013671875, comp_sigma=297.487548828125, dispersal_prob=0.822076678276062, mutation_rate=0.00047713445383124053, equilib_escape=0.5815138816833496, num_basepairs=250, alpha=833453.1875, neut_delta=0.12582749128341675, env_comp_delta=0.8561491966247559, init_type='oceanic_island', niter=10000, niterTimestep=10)"
      ]
     },
     "execution_count": 18,
     "metadata": {},
     "output_type": "execute_result"
    }
   ],
   "source": [
    "params = prior.get_params(sample)\n",
    "params"
   ]
  },
  {
   "cell_type": "code",
   "execution_count": 16,
   "metadata": {},
   "outputs": [
    {
     "name": "stdout",
     "output_type": "stream",
     "text": [
      "{\n",
      "    \"individuals_local\": 34488296,\n",
      "    \"individuals_meta\": 110462536,\n",
      "    \"species_meta\": 62968478,\n",
      "    \"speciation_local\": 0.08231894671916962,\n",
      "    \"speciation_meta\": 0.5447497367858887,\n",
      "    \"extinction_meta\": 0.41827306151390076,\n",
      "    \"env_sigma\": 332.65869140625,\n",
      "    \"trait_sigma\": 211.73956298828125,\n",
      "    \"comp_sigma\": 327.5611877441406,\n",
      "    \"dispersal_prob\": 0.7214080095291138,\n",
      "    \"mutation_rate\": 0.0007515561883337796,\n",
      "    \"equilib_escape\": 0.32743096351623535,\n",
      "    \"num_basepairs\": 250,\n",
      "    \"alpha\": 237288.640625,\n",
      "    \"neut_delta\": 0.7441015243530273,\n",
      "    \"env_comp_delta\": 0.7387944459915161,\n",
      "    \"init_type\": \"oceanic_island\",\n",
      "    \"niter\": 10000,\n",
      "    \"niterTimestep\": 10\n",
      "}\n"
     ]
    }
   ],
   "source": [
    "print(params.model_dump_json(indent=4))"
   ]
  }
 ],
 "metadata": {
  "kernelspec": {
   "display_name": ".venv",
   "language": "python",
   "name": "python3"
  },
  "language_info": {
   "codemirror_mode": {
    "name": "ipython",
    "version": 3
   },
   "file_extension": ".py",
   "mimetype": "text/x-python",
   "name": "python",
   "nbconvert_exporter": "python",
   "pygments_lexer": "ipython3",
   "version": "3.12.9"
  }
 },
 "nbformat": 4,
 "nbformat_minor": 2
}
