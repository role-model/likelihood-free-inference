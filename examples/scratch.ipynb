{
 "cells": [
  {
   "cell_type": "code",
   "execution_count": null,
   "metadata": {},
   "outputs": [],
   "source": [
    "from roler.model import ModelPrior, ModelParams\n",
    "from roler.distributions import *"
   ]
  },
  {
   "cell_type": "code",
   "execution_count": 2,
   "metadata": {},
   "outputs": [],
   "source": [
    "prior = ModelPrior(\n",
    "    individuals_local=IntDistribution(100, 10**8),\n",
    "    add_individuals_meta=IntDistribution(100, 10**8),\n",
    "    \n",
    "    prop_species_meta=FloatDistribution(0.0, 1.0),\n",
    "    speciation_local=FloatDistribution(0.0001, 0.9999),\n",
    "    speciation_meta=FloatDistribution(0.01, 1.0),\n",
    "    \n",
    "    extinction_meta=FloatDistribution(0.01, 1.0),\n",
    "    env_sigma=FloatDistribution(0.0001, 1000.0),\n",
    "    trait_sigma=FloatDistribution(0.0001, 1000.0),\n",
    "    comp_sigma=FloatDistribution(0.0001, 1000.0),\n",
    "    dispersal_prob=FloatDistribution(0.0, 1.0),\n",
    "    mutation_rate=FloatDistribution(1e-7, 0.001),\n",
    "    equilib_escape=FloatDistribution(0.0, 1.0),\n",
    "    num_basepairs=250,\n",
    "\n",
    "    alpha=FloatDistribution(1.0, 10**6),\n",
    "    neut_delta=FloatDistribution(0.0, 1.0),\n",
    "    env_comp_delta=FloatDistribution(0.0, 1.0),\n",
    "\n",
    "    init_type='oceanic_island',\n",
    "    niter=10000,\n",
    "    niterTimestep=10,\n",
    ")"
   ]
  },
  {
   "cell_type": "code",
   "execution_count": 3,
   "metadata": {},
   "outputs": [],
   "source": [
    "sample = prior.sample()"
   ]
  },
  {
   "cell_type": "code",
   "execution_count": 4,
   "metadata": {},
   "outputs": [
    {
     "data": {
      "text/plain": [
       "ModelParams(individuals_local=56255284, individuals_meta=146619012, species_meta=17806243, speciation_local=0.8931140303611755, speciation_meta=0.6636114716529846, extinction_meta=0.6968994140625, env_sigma=5.192379474639893, trait_sigma=343.6248779296875, comp_sigma=365.31329345703125, dispersal_prob=0.702155590057373, mutation_rate=0.00021096516866236925, equilib_escape=0.565222442150116, num_basepairs=250, alpha=426006.90625, neut_delta=0.966285228729248, env_comp_delta=0.7300561666488647, init_type='oceanic_island', niter=10000, niterTimestep=10)"
      ]
     },
     "execution_count": 4,
     "metadata": {},
     "output_type": "execute_result"
    }
   ],
   "source": [
    "params = prior.get_params(sample)\n",
    "params"
   ]
  },
  {
   "cell_type": "code",
   "execution_count": 7,
   "metadata": {},
   "outputs": [
    {
     "name": "stdout",
     "output_type": "stream",
     "text": [
      "{\n",
      "    \"individuals_local\": 56255284,\n",
      "    \"individuals_meta\": 146619012,\n",
      "    \"species_meta\": 17806243,\n",
      "    \"speciation_local\": 0.8931140303611755,\n",
      "    \"speciation_meta\": 0.6636114716529846,\n",
      "    \"extinction_meta\": 0.6968994140625,\n",
      "    \"env_sigma\": 5.192379474639893,\n",
      "    \"trait_sigma\": 343.6248779296875,\n",
      "    \"comp_sigma\": 365.31329345703125,\n",
      "    \"dispersal_prob\": 0.702155590057373,\n",
      "    \"mutation_rate\": 0.00021096516866236925,\n",
      "    \"equilib_escape\": 0.565222442150116,\n",
      "    \"num_basepairs\": 250,\n",
      "    \"alpha\": 426006.90625,\n",
      "    \"neut_delta\": 0.966285228729248,\n",
      "    \"env_comp_delta\": 0.7300561666488647,\n",
      "    \"init_type\": \"oceanic_island\",\n",
      "    \"niter\": 10000,\n",
      "    \"niterTimestep\": 10\n",
      "}\n"
     ]
    }
   ],
   "source": [
    "print(params.model_dump_json(indent=4))"
   ]
  }
 ],
 "metadata": {
  "kernelspec": {
   "display_name": ".venv",
   "language": "python",
   "name": "python3"
  },
  "language_info": {
   "codemirror_mode": {
    "name": "ipython",
    "version": 3
   },
   "file_extension": ".py",
   "mimetype": "text/x-python",
   "name": "python",
   "nbconvert_exporter": "python",
   "pygments_lexer": "ipython3",
   "version": "3.12.9"
  }
 },
 "nbformat": 4,
 "nbformat_minor": 2
}
