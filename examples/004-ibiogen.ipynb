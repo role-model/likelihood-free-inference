{
 "cells": [
  {
   "cell_type": "code",
   "execution_count": 2,
   "id": "c53382aa",
   "metadata": {},
   "outputs": [],
   "source": [
    "%load_ext autoreload\n",
    "%autoreload 2"
   ]
  },
  {
   "cell_type": "code",
   "execution_count": 10,
   "id": "b27f840c",
   "metadata": {},
   "outputs": [],
   "source": [
    "from roler.model import SimpleModelPrior\n",
    "from roler.distributions import *\n",
    "\n",
    "prior = SimpleModelPrior(\n",
    "    birth_rate=FloatDistribution(0.01, 1.0),\n",
    "    ntaxa=IntDistribution(2, 100),\n",
    "    J=IntDistribution(2, 1000),\n",
    "    colrate=FloatDistribution(0.0, 1.0),\n",
    "    Ne_scaling=FloatDistribution(1.0, 1000),\n",
    ")"
   ]
  },
  {
   "cell_type": "code",
   "execution_count": 19,
   "id": "5cb05f3b",
   "metadata": {},
   "outputs": [
    {
     "name": "stdout",
     "output_type": "stream",
     "text": [
      "{\"birth_rate\":0.09191054105758667,\"ntaxa\":57,\"J\":562,\"colrate\":0.5302757620811462,\"Ne_scaling\":717.6730346679688}\n"
     ]
    }
   ],
   "source": [
    "sample = prior.sample()\n",
    "params = prior.get_params(sample)\n",
    "params_json = params.model_dump_json()\n",
    "print(params_json)"
   ]
  },
  {
   "cell_type": "code",
   "execution_count": null,
   "id": "696119fd",
   "metadata": {},
   "outputs": [],
   "source": []
  }
 ],
 "metadata": {
  "kernelspec": {
   "display_name": ".venv",
   "language": "python",
   "name": "python3"
  },
  "language_info": {
   "codemirror_mode": {
    "name": "ipython",
    "version": 3
   },
   "file_extension": ".py",
   "mimetype": "text/x-python",
   "name": "python",
   "nbconvert_exporter": "python",
   "pygments_lexer": "ipython3",
   "version": "3.12.9"
  }
 },
 "nbformat": 4,
 "nbformat_minor": 5
}
