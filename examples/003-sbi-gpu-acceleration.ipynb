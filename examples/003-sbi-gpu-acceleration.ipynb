{
 "cells": [
  {
   "cell_type": "markdown",
   "metadata": {},
   "source": [
    "# Role R Likelihood-free Simulation Based Inference\n",
    "\n",
    "This is for multi-core simulation and GPU training and inference."
   ]
  },
  {
   "cell_type": "code",
   "execution_count": 1,
   "metadata": {},
   "outputs": [
    {
     "name": "stderr",
     "output_type": "stream",
     "text": [
      "/home/micahtilton/github/likelihood-free-inference/.venv/lib/python3.12/site-packages/tqdm/auto.py:21: TqdmWarning: IProgress not found. Please update jupyter and ipywidgets. See https://ipywidgets.readthedocs.io/en/stable/user_install.html\n",
      "  from .autonotebook import tqdm as notebook_tqdm\n"
     ]
    },
    {
     "name": "stdout",
     "output_type": "stream",
     "text": [
      "Installing the 'roleR' R package from GitHub...\n"
     ]
    },
    {
     "name": "stderr",
     "output_type": "stream",
     "text": [
      "R[write to console]: Skipping install of 'roleR' from a github remote, the SHA1 (cc6546a1) has not changed since last install.\n",
      "  Use `force = TRUE` to force installation\n",
      "\n"
     ]
    }
   ],
   "source": [
    "from roler.model import ModelPrior\n",
    "from roler.distributions import *\n",
    "from roler.simulation import Simulator\n",
    "\n",
    "prior = ModelPrior(\n",
    "    individuals_local=IntDistribution(50, 300),\n",
    "    individuals_meta=IntDistribution(400, 1000),\n",
    "    species_meta=50,\n",
    "    speciation_local=0.05,\n",
    "    speciation_meta=0.05,\n",
    "    extinction_meta=0.05,\n",
    "    env_sigma=0.5,\n",
    "    trait_sigma=1,\n",
    "    comp_sigma=0.5,\n",
    "    dispersal_prob=0.1,\n",
    "    mutation_rate=0.01,\n",
    "    equilib_escape=1,\n",
    "    num_basepairs=250,\n",
    "    init_type='oceanic_island',\n",
    "    niter=2000,\n",
    "    niterTimestep=10\n",
    ")\n",
    "\n",
    "simulator = Simulator()"
   ]
  },
  {
   "cell_type": "code",
   "execution_count": 7,
   "metadata": {},
   "outputs": [],
   "source": [
    "from roler.datasets import Dataset\n",
    "\n",
    "dataset = Dataset(simulator=simulator, prior=prior)\n",
    "x, y = dataset.generate_dataset(16*100, select_last_n=10, n_jobs=14)"
   ]
  },
  {
   "cell_type": "code",
   "execution_count": 8,
   "metadata": {},
   "outputs": [
    {
     "name": "stdout",
     "output_type": "stream",
     "text": [
      "torch.Size([16000, 2])\n",
      "torch.Size([16000, 9])\n"
     ]
    }
   ],
   "source": [
    "print(x.shape)\n",
    "print(y.shape)"
   ]
  },
  {
   "cell_type": "code",
   "execution_count": 9,
   "metadata": {},
   "outputs": [
    {
     "name": "stderr",
     "output_type": "stream",
     "text": [
      "/home/micahtilton/github/likelihood-free-inference/.venv/lib/python3.12/site-packages/sbi/inference/trainers/npe/npe_base.py:157: UserWarning: Data x has device 'cpu'. Moving x to the data_device 'cuda'. Training will proceed on device 'cuda'.\n",
      "  theta, x = validate_theta_and_x(\n",
      "/home/micahtilton/github/likelihood-free-inference/.venv/lib/python3.12/site-packages/sbi/inference/trainers/npe/npe_base.py:157: UserWarning: Parameters theta has device 'cpu'. Moving theta to the data_device 'cuda'. Training will proceed on device 'cuda'.\n",
      "  theta, x = validate_theta_and_x(\n"
     ]
    },
    {
     "name": "stdout",
     "output_type": "stream",
     "text": [
      " Neural network successfully converged after 254 epochs."
     ]
    }
   ],
   "source": [
    "from sbi.inference import SNPE\n",
    "\n",
    "device = \"cuda\"\n",
    "\n",
    "snpe = SNPE(prior=prior.get_joint_uniform(device=device), device=device, density_estimator=\"maf\")\n",
    "density_estimator = snpe.append_simulations(x, y).train()\n",
    "posterior = snpe.build_posterior(density_estimator)"
   ]
  },
  {
   "cell_type": "code",
   "execution_count": 54,
   "metadata": {},
   "outputs": [
    {
     "name": "stdout",
     "output_type": "stream",
     "text": [
      "Observed simulation output: tensor([5.9058, 4.6106, 3.9709, 3.6128, 6.0883, 5.0537, 4.6149, 4.3983, 9.0000],\n",
      "       device='cuda:0')\n"
     ]
    },
    {
     "name": "stderr",
     "output_type": "stream",
     "text": [
      "Drawing 10000 posterior samples: 11691it [00:00, 510500.43it/s]           "
     ]
    },
    {
     "name": "stdout",
     "output_type": "stream",
     "text": [
      "Posterior samples shape: torch.Size([10000, 2])\n",
      "Posterior mean estimate: tensor([ 57.0861, 691.8786], device='cuda:0')\n",
      "\n",
      "Theta True      : tensor([ 58.5589, 819.2974], device='cuda:0')\n",
      "Theta Prediction: tensor([ 57.0861, 691.8786], device='cuda:0')\n"
     ]
    },
    {
     "name": "stderr",
     "output_type": "stream",
     "text": [
      "\n"
     ]
    }
   ],
   "source": [
    "theta_true, x_obs = dataset.generate_dataset(samples=1)\n",
    "theta_true, x_obs = theta_true[-1], x_obs[-1]\n",
    "\n",
    "theta_true = theta_true.to(\"cuda\")\n",
    "x_obs = x_obs.to(\"cuda\")\n",
    "\n",
    "print(\"Observed simulation output:\", x_obs)\n",
    "\n",
    "# posterior_cpu = snpe.build_posterior(density_estimator, sample_with=\"\")\n",
    "# Use the learned posterior to sample inferred parameters given the observed output\n",
    "posterior_samples = posterior.sample((10000,), x=x_obs)\n",
    "print(\"Posterior samples shape:\", posterior_samples.shape)\n",
    "\n",
    "# Compute a point estimate (e.g. the posterior mean)\n",
    "posterior_mean = posterior_samples.mean(dim=0)\n",
    "print(\"Posterior mean estimate:\", posterior_mean)\n",
    "\n",
    "print()\n",
    "print(\"Theta True      :\", theta_true)\n",
    "print(\"Theta Prediction:\", posterior_mean)"
   ]
  }
 ],
 "metadata": {
  "kernelspec": {
   "display_name": ".venv",
   "language": "python",
   "name": "python3"
  },
  "language_info": {
   "codemirror_mode": {
    "name": "ipython",
    "version": 3
   },
   "file_extension": ".py",
   "mimetype": "text/x-python",
   "name": "python",
   "nbconvert_exporter": "python",
   "pygments_lexer": "ipython3",
   "version": "3.12.3"
  }
 },
 "nbformat": 4,
 "nbformat_minor": 2
}
