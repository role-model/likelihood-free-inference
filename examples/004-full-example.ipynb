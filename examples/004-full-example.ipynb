{
 "cells": [
  {
   "cell_type": "code",
   "execution_count": 1,
   "id": "33be1594",
   "metadata": {},
   "outputs": [],
   "source": [
    "%load_ext autoreload\n",
    "%autoreload 2"
   ]
  },
  {
   "cell_type": "code",
   "execution_count": 2,
   "id": "21efaf6b",
   "metadata": {},
   "outputs": [
    {
     "name": "stderr",
     "output_type": "stream",
     "text": [
      "/Users/micahtilton/Documents/GitHub/likelihood-free-inference/.venv/lib/python3.12/site-packages/tqdm/auto.py:21: TqdmWarning: IProgress not found. Please update jupyter and ipywidgets. See https://ipywidgets.readthedocs.io/en/stable/user_install.html\n",
      "  from .autonotebook import tqdm as notebook_tqdm\n"
     ]
    }
   ],
   "source": [
    "from roler.model import ModelPrior\n",
    "from roler.distributions import *\n",
    "\n",
    "prior = ModelPrior(\n",
    "    individuals_local=IntDistribution(100, 10000),\n",
    "    add_individuals_meta=IntDistribution(100, 10000),\n",
    "    species_meta=IntDistribution(10, 500),\n",
    "    speciation_local=FloatDistribution(0.0, 1e-4),\n",
    "    mutation_rate=FloatDistribution(1e-7, 1e-5),\n",
    ")"
   ]
  },
  {
   "cell_type": "code",
   "execution_count": 17,
   "id": "e5d6d59d",
   "metadata": {},
   "outputs": [],
   "source": [
    "from roler.inference import RoleR\n",
    "\n",
    "roler = RoleR(prior=prior, load_fp=\"data/posterior.pt\")"
   ]
  },
  {
   "cell_type": "code",
   "execution_count": 9,
   "id": "6e932090",
   "metadata": {},
   "outputs": [
    {
     "name": "stderr",
     "output_type": "stream",
     "text": [
      "Drawing 10000 posterior samples: 10942it [00:00, 178711.76it/s]           "
     ]
    },
    {
     "name": "stdout",
     "output_type": "stream",
     "text": [
      "True           : tensor([5.4539e+02, 6.2569e+03, 3.4186e+01, 2.4458e-05, 6.1975e-06])\n",
      "Posterior Mean : tensor([2.5248e+03, 5.0462e+03, 6.4977e+01, 4.8651e-05, 5.1448e-06])\n"
     ]
    },
    {
     "name": "stderr",
     "output_type": "stream",
     "text": [
      "\n"
     ]
    }
   ],
   "source": [
    "obs = roler.observe()\n",
    "prediction = roler.infer(obs[\"x_obs\"])\n",
    "print(f\"True           : {obs[\"theta_true\"]}\")\n",
    "print(f\"Posterior Mean : {prediction}\")\n",
    "\n",
    "# print(f\"True           : {roler.get_params(obs[\"theta_true\"]).model_dump_json(indent=4)}\")\n",
    "# print(f\"Posterior Mean : {roler.get_params(prediction).model_dump_json(indent=4)}\")"
   ]
  },
  {
   "cell_type": "code",
   "execution_count": null,
   "id": "dbeff48d",
   "metadata": {},
   "outputs": [],
   "source": [
    "dataset = roler.generator.generate_dataset(100, n_jobs=14)"
   ]
  },
  {
   "cell_type": "code",
   "execution_count": 18,
   "id": "d7b611ad",
   "metadata": {},
   "outputs": [
    {
     "name": "stderr",
     "output_type": "stream",
     "text": [
      "/var/folders/b7/t6qqglw97zl2pv5pmv_jtn040000gn/T/ipykernel_77994/252077781.py:7: UserWarning: Number of SBC samples should be on the order of 100s to give realiable results.\n",
      "  ranks, dap_samples = run_sbc(\n",
      "Drawing 10000 posterior samples: 10033it [00:06, 1509.35it/s]                          \n",
      "Calculating ranks for 99 sbc samples.: 100%|██████████| 99/99 [00:00<00:00, 9209.05it/s]\n"
     ]
    },
    {
     "data": {
      "image/png": "[encoded data removed]",
      "text/plain": [
       "<Figure size 2000x1000 with 8 Axes>"
      ]
     },
     "metadata": {},
     "output_type": "display_data"
    }
   ],
   "source": [
    "from sbi.diagnostics import run_sbc\n",
    "from sbi.analysis    import sbc_rank_plot\n",
    "\n",
    "thetas, xs = roler.to_tensor(dataset)\n",
    "\n",
    "# 3) run SBC\n",
    "ranks, dap_samples = run_sbc(\n",
    "    thetas,\n",
    "    xs,\n",
    "    roler.posterior,                   # your trained, amortized posterior\n",
    "    num_posterior_samples=10000  # how many draws per run\n",
    ")\n",
    "\n",
    "# 4) plot the rank histograms (should lie in the uniform confidence bands)\n",
    "fig, axes = sbc_rank_plot(\n",
    "    ranks=ranks,\n",
    "    num_posterior_samples=10000,\n",
    "    plot_type=\"hist\",\n",
    "    num_bins=20\n",
    ")"
   ]
  },
  {
   "cell_type": "code",
   "execution_count": null,
   "id": "2dddf54a",
   "metadata": {},
   "outputs": [
    {
     "name": "stdout",
     "output_type": "stream",
     "text": [
      "KS stat: 0.034303432763224895 p‑value: 0.5927007007062133\n"
     ]
    }
   ],
   "source": [
    "import numpy as np\n",
    "from scipy.stats import kstest\n",
    "\n",
    "K = 10000  # e.g. 1000\n",
    "flat = ranks.view(-1).cpu().numpy()\n",
    "flat_norm = flat / float(K - 1)    # now in [0,1]\n",
    "stat, pval = kstest(flat_norm, \"uniform\")\n",
    "print(\"KS stat:\", stat, \"p-value:\", pval)"
   ]
  },
  {
   "cell_type": "markdown",
   "id": "0546fb36",
   "metadata": {},
   "source": [
    "When you plot your SBC rank histogram, you’re looking to see whether the ranks of your “true” parameters within their inferred posteriors are uniformly distributed. Here’s how to read it:\n",
    "\t1.\tAxes\n",
    "\t•\tHorizontal (bins): Each bin i counts how many times the true parameter fell at rank i among your K posterior samples.\n",
    "\t•\tVertical: The frequency (usually normalized to probability or fraction of runs) of each rank.\n",
    "\t2.\tIdeal (flat) shape\n",
    "\t•\tIf your posterior is perfectly calibrated, the histogram will be approximately flat—every rank from 0 through K\\!-\\!1 is equally likely.\n",
    "\t•\tA flat line means that, across all simulation draws, the true parameter is just as likely to be the 1st, 2nd, …, or Kth sample out of K.\n",
    "\t3.\tCommon deviations\n",
    "\t•\tU‑shape (↑ at the leftmost and rightmost bins):\n",
    "\t•\tYour posteriors are too narrow (overconfident). The true value often lies outside the bulk of your posterior draws, so it gets “pushed” into the extreme bins.\n",
    "\t•\t∩‑shape (↑ in the middle bins, ↓ at tails):\n",
    "\t•\tYour posteriors are too wide (underconfident). The true value tends to sit near the center of your draws more often than uniform.\n",
    "\t•\tSkew (tilt left or right):\n",
    "\t•\tA slant toward the left (more low‐rank counts) means you’re overestimating your parameter (posterior is biased high), and vice versa.\n",
    "\t4.\tConfidence bands\n",
    "If your sbc_rank_plot call overlays, say, the 95 % “gray” bands around uniformity:\n",
    "\t•\tHistogram within the bands: Deviations are statistically plausible given finite N.\n",
    "\t•\tBins escaping the bands: Evidence of miscalibration—your posterior systematically mis‐orients the true value.\n",
    "\t5.\tPractical threshold\n",
    "\t•\tSmall wobbles inside the bands are fine.\n",
    "\t•\tLarge excursions beyond the bands (or consistent U/∩ patterns) suggest you need to adjust your network capacity, regularization, or training procedure.\n",
    "\n",
    "⸻\n",
    "\n",
    "Quick checklist when you see your SBC histogram:\n",
    "\t•\tFlat & inside bands? → Well‑calibrated.\n",
    "\t•\tU‑shaped (tails high)? → Overconfident (posterior too narrow).\n",
    "\t•\tInverted‑U (center high)? → Underconfident (posterior too broad).\n",
    "\t•\tTilted? → Systematic bias (means off).\n",
    "\t•\tBins outside bands? → Statistically significant miscalibration.\n",
    "\n",
    "Use that as your diagnostic guide: once your SBC rank histogram looks flat within its confidence bands, you can trust that your neural posterior is properly calibrated.\n",
    "\n",
    "That’s actually great news—your flattened‐ranks KS test is showing no evidence against uniformity:\n",
    "\t•\tKS stat ≈ 0.034 is a very small maximum distance from the uniform CDF.\n",
    "\t•\tp ≈ 0.59 means you cannot reject the null hypothesis of “uniform,” so your ranks are consistent with perfect calibration.\n",
    "\n",
    "In other words, your SBC histogram really is uniform up to random noise.  At this point you can be confident your neural posterior is well–calibrated. If you want to go further, the next steps are:\n",
    "\t1.\tPer‑dimension KS tests (to catch any marginal quirks).\n",
    "\t2.\tCredible‑interval coverage at various levels (50 %, 80 %, 90 %) on your SBC draws.\n",
    "\t3.\tPosterior predictive checks to ensure your model actually reproduces observed data distributions.\n",
    "\n",
    "But as it stands, a KS p‑value of 0.59 is exactly what you want to see. Nice work!\n",
    "\n",
    "It all comes down to what your null hypothesis is:\n",
    "\t•\tIn most “difference” or “effect” tests, your null is “no difference,” so a low p‑value is “good” because it means you’ve rejected “no difference” in favor of an effect.\n",
    "\t•\tHere, your null is “the SBC ranks are uniformly distributed” (i.e. perfectly calibrated). A high p‑value means you cannot reject that uniformity—so it’s good news for calibration!\n",
    "\n",
    "Concretely:\n",
    "\t•\tLow p (say < 0.05) → ranks not uniform → evidence of miscalibration (bad).\n",
    "\t•\tHigh p (≫ 0.05) → no evidence against uniformity → posterior seems well calibrated (good).\n",
    "\n",
    "So your p ≈ 0.59 is exactly what you want: it tells you your observed rank histogram is statistically consistent with a uniform distribution."
   ]
  }
 ],
 "metadata": {
  "kernelspec": {
   "display_name": ".venv",
   "language": "python",
   "name": "python3"
  },
  "language_info": {
   "codemirror_mode": {
    "name": "ipython",
    "version": 3
   },
   "file_extension": ".py",
   "mimetype": "text/x-python",
   "name": "python",
   "nbconvert_exporter": "python",
   "pygments_lexer": "ipython3",
   "version": "3.12.9"
  }
 },
 "nbformat": 4,
 "nbformat_minor": 5
}
