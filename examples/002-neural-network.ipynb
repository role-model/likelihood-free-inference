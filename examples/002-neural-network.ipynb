{
 "cells": [
  {
   "cell_type": "markdown",
   "metadata": {},
   "source": [
    "# Role R Likelihood-free Simulation Based Inference"
   ]
  },
  {
   "cell_type": "code",
   "execution_count": 1,
   "metadata": {},
   "outputs": [],
   "source": [
    "from roler.model import ModelPrior\n",
    "from roler.distributions import *"
   ]
  },
  {
   "cell_type": "markdown",
   "metadata": {},
   "source": [
    "## Defining the Model Prior\n",
    "\n",
    "This cell defines the prior distributions and fixed values for the simulation model using the `ModelPrior` class. This object will be used to sample parameter values for each simulation run."
   ]
  },
  {
   "cell_type": "code",
   "execution_count": 2,
   "metadata": {},
   "outputs": [],
   "source": [
    "prior = ModelPrior(\n",
    "    individuals_local=IntDistribution(50, 300),\n",
    "    individuals_meta=IntDistribution(400, 1000),\n",
    "    species_meta=50,\n",
    "    speciation_local=0.05,\n",
    "    speciation_meta=0.05,\n",
    "    extinction_meta=0.05,\n",
    "    env_sigma=0.5,\n",
    "    trait_sigma=1,\n",
    "    comp_sigma=0.5,\n",
    "    dispersal_prob=0.1,\n",
    "    mutation_rate=0.01,\n",
    "    equilib_escape=1,\n",
    "    num_basepairs=250,\n",
    "    init_type='oceanic_island',\n",
    "    niter=2000,\n",
    "    niterTimestep=10\n",
    ")"
   ]
  },
  {
   "cell_type": "markdown",
   "metadata": {},
   "source": [
    "## Generating a Dataset of Simulations\n",
    "\n",
    "This cell generates a dataset of simulation results using the `Dataset` class. It initializes a `Dataset` object with the previously defined `simulator` and `prior`. The `generate_dataset` method is then called to generate `samples=10` simulation runs. The resulting parameter values (`theta`) and summary statistics (`x`) are stored. Finally, the shapes of `theta` and `x` are printed to show the dimensions of the generated dataset."
   ]
  },
  {
   "cell_type": "code",
   "execution_count": null,
   "metadata": {},
   "outputs": [
    {
     "name": "stdout",
     "output_type": "stream",
     "text": [
      "theta.size torch.Size([1994, 2])\n",
      "x.size torch.Size([1994, 9])\n"
     ]
    }
   ],
   "source": [
    "from roler.datasets import Dataset\n",
    "from roler.simulation import Simulator\n",
    "\n",
    "simulator = Simulator()\n",
    "dataset = Dataset(simulator=simulator, prior=prior)\n",
    "theta, x = dataset.generate_dataset(samples=10)\n",
    "\n",
    "print(\"theta.size\", theta.shape)\n",
    "print(\"x.size\", x.shape)"
   ]
  },
  {
   "cell_type": "code",
   "execution_count": null,
   "metadata": {},
   "outputs": [],
   "source": []
  }
 ],
 "metadata": {
  "kernelspec": {
   "display_name": ".venv",
   "language": "python",
   "name": "python3"
  },
  "language_info": {
   "codemirror_mode": {
    "name": "ipython",
    "version": 3
   },
   "file_extension": ".py",
   "mimetype": "text/x-python",
   "name": "python",
   "nbconvert_exporter": "python",
   "pygments_lexer": "ipython3",
   "version": "3.12.9"
  }
 },
 "nbformat": 4,
 "nbformat_minor": 2
}
