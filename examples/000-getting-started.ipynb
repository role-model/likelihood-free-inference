{
 "cells": [
  {
   "cell_type": "markdown",
   "metadata": {},
   "source": [
    "# Role R Likelihood-free Simulation Based Inference"
   ]
  },
  {
   "cell_type": "code",
   "execution_count": 1,
   "metadata": {},
   "outputs": [
    {
     "name": "stderr",
     "output_type": "stream",
     "text": [
      "/Users/micahtilton/Documents/GitHub/likelihood-free-inference/.venv/lib/python3.12/site-packages/tqdm/auto.py:21: TqdmWarning: IProgress not found. Please update jupyter and ipywidgets. See https://ipywidgets.readthedocs.io/en/stable/user_install.html\n",
      "  from .autonotebook import tqdm as notebook_tqdm\n"
     ]
    }
   ],
   "source": [
    "%load_ext autoreload\n",
    "%autoreload 2\n",
    "\n",
    "from roler.model import ModelPrior\n",
    "from roler.distributions import *"
   ]
  },
  {
   "cell_type": "markdown",
   "metadata": {},
   "source": [
    "## Defining the Model Prior\n",
    "\n",
    "This cell defines the prior distributions and fixed values for the simulation model using the `ModelPrior` class. This object will be used to sample parameter values for each simulation run."
   ]
  },
  {
   "cell_type": "code",
   "execution_count": 2,
   "metadata": {},
   "outputs": [
    {
     "ename": "TypeError",
     "evalue": "ModelPrior.__init__() got an unexpected keyword argument 'individuals_meta'",
     "output_type": "error",
     "traceback": [
      "\u001b[0;31m---------------------------------------------------------------------------\u001b[0m",
      "\u001b[0;31mTypeError\u001b[0m                                 Traceback (most recent call last)",
      "Cell \u001b[0;32mIn[2], line 1\u001b[0m\n\u001b[0;32m----> 1\u001b[0m prior \u001b[38;5;241m=\u001b[39m \u001b[43mModelPrior\u001b[49m\u001b[43m(\u001b[49m\n\u001b[1;32m      2\u001b[0m \u001b[43m    \u001b[49m\u001b[43mindividuals_local\u001b[49m\u001b[38;5;241;43m=\u001b[39;49m\u001b[43mIntDistribution\u001b[49m\u001b[43m(\u001b[49m\u001b[38;5;241;43m50\u001b[39;49m\u001b[43m,\u001b[49m\u001b[43m \u001b[49m\u001b[38;5;241;43m300\u001b[39;49m\u001b[43m)\u001b[49m\u001b[43m,\u001b[49m\n\u001b[1;32m      3\u001b[0m \u001b[43m    \u001b[49m\u001b[43mindividuals_meta\u001b[49m\u001b[38;5;241;43m=\u001b[39;49m\u001b[43mIntDistribution\u001b[49m\u001b[43m(\u001b[49m\u001b[38;5;241;43m400\u001b[39;49m\u001b[43m,\u001b[49m\u001b[43m \u001b[49m\u001b[38;5;241;43m1000\u001b[39;49m\u001b[43m)\u001b[49m\u001b[43m,\u001b[49m\n\u001b[1;32m      4\u001b[0m \u001b[43m    \u001b[49m\u001b[43mspecies_meta\u001b[49m\u001b[38;5;241;43m=\u001b[39;49m\u001b[38;5;241;43m50\u001b[39;49m\u001b[43m,\u001b[49m\n\u001b[1;32m      5\u001b[0m \u001b[43m    \u001b[49m\u001b[43mspeciation_local\u001b[49m\u001b[38;5;241;43m=\u001b[39;49m\u001b[38;5;241;43m0.05\u001b[39;49m\u001b[43m,\u001b[49m\n\u001b[1;32m      6\u001b[0m \u001b[43m    \u001b[49m\u001b[43mspeciation_meta\u001b[49m\u001b[38;5;241;43m=\u001b[39;49m\u001b[38;5;241;43m0.05\u001b[39;49m\u001b[43m,\u001b[49m\n\u001b[1;32m      7\u001b[0m \u001b[43m    \u001b[49m\u001b[43mextinction_meta\u001b[49m\u001b[38;5;241;43m=\u001b[39;49m\u001b[38;5;241;43m0.05\u001b[39;49m\u001b[43m,\u001b[49m\n\u001b[1;32m      8\u001b[0m \u001b[43m    \u001b[49m\u001b[43menv_sigma\u001b[49m\u001b[38;5;241;43m=\u001b[39;49m\u001b[38;5;241;43m0.5\u001b[39;49m\u001b[43m,\u001b[49m\n\u001b[1;32m      9\u001b[0m \u001b[43m    \u001b[49m\u001b[43mtrait_sigma\u001b[49m\u001b[38;5;241;43m=\u001b[39;49m\u001b[38;5;241;43m1\u001b[39;49m\u001b[43m,\u001b[49m\n\u001b[1;32m     10\u001b[0m \u001b[43m    \u001b[49m\u001b[43mcomp_sigma\u001b[49m\u001b[38;5;241;43m=\u001b[39;49m\u001b[38;5;241;43m0.5\u001b[39;49m\u001b[43m,\u001b[49m\n\u001b[1;32m     11\u001b[0m \u001b[43m    \u001b[49m\u001b[43mdispersal_prob\u001b[49m\u001b[38;5;241;43m=\u001b[39;49m\u001b[38;5;241;43m0.1\u001b[39;49m\u001b[43m,\u001b[49m\n\u001b[1;32m     12\u001b[0m \u001b[43m    \u001b[49m\u001b[43mmutation_rate\u001b[49m\u001b[38;5;241;43m=\u001b[39;49m\u001b[38;5;241;43m0.01\u001b[39;49m\u001b[43m,\u001b[49m\n\u001b[1;32m     13\u001b[0m \u001b[43m    \u001b[49m\u001b[43mequilib_escape\u001b[49m\u001b[38;5;241;43m=\u001b[39;49m\u001b[38;5;241;43m1\u001b[39;49m\u001b[43m,\u001b[49m\n\u001b[1;32m     14\u001b[0m \u001b[43m    \u001b[49m\u001b[43mnum_basepairs\u001b[49m\u001b[38;5;241;43m=\u001b[39;49m\u001b[38;5;241;43m250\u001b[39;49m\u001b[43m,\u001b[49m\n\u001b[1;32m     15\u001b[0m \u001b[43m    \u001b[49m\u001b[43minit_type\u001b[49m\u001b[38;5;241;43m=\u001b[39;49m\u001b[38;5;124;43m'\u001b[39;49m\u001b[38;5;124;43moceanic_island\u001b[39;49m\u001b[38;5;124;43m'\u001b[39;49m\u001b[43m,\u001b[49m\n\u001b[1;32m     16\u001b[0m \u001b[43m    \u001b[49m\u001b[43mniter\u001b[49m\u001b[38;5;241;43m=\u001b[39;49m\u001b[38;5;241;43m20000\u001b[39;49m\u001b[43m,\u001b[49m\n\u001b[1;32m     17\u001b[0m \u001b[43m    \u001b[49m\u001b[43mniterTimestep\u001b[49m\u001b[38;5;241;43m=\u001b[39;49m\u001b[38;5;241;43m10\u001b[39;49m\n\u001b[1;32m     18\u001b[0m \u001b[43m)\u001b[49m\n",
      "\u001b[0;31mTypeError\u001b[0m: ModelPrior.__init__() got an unexpected keyword argument 'individuals_meta'"
     ]
    }
   ],
   "source": [
    "prior = ModelPrior(\n",
    "    individuals_local=IntDistribution(50, 300),\n",
    "    individuals_meta=IntDistribution(400, 1000),\n",
    "    species_meta=50,\n",
    "    speciation_local=0.05,\n",
    "    speciation_meta=0.05,\n",
    "    extinction_meta=0.05,\n",
    "    env_sigma=0.5,\n",
    "    trait_sigma=1,\n",
    "    comp_sigma=0.5,\n",
    "    dispersal_prob=0.1,\n",
    "    mutation_rate=0.01,\n",
    "    equilib_escape=1,\n",
    "    num_basepairs=250,\n",
    "    init_type='oceanic_island',\n",
    "    niter=20000,\n",
    "    niterTimestep=10\n",
    ")"
   ]
  },
  {
   "cell_type": "code",
   "execution_count": null,
   "metadata": {},
   "outputs": [],
   "source": [
    "prior = ModelPrior(\n",
    "    individuals_local=IntDistribution(50, 300),\n",
    "    individuals_meta=IntDistribution(\"individuals_meta\", 1000),\n",
    "    speciation_meta=0.05,\n",
    "    extinction_meta=0.05,\n",
    "    niter=20000,\n",
    "    niterTimestep=10\n",
    ")"
   ]
  },
  {
   "cell_type": "code",
   "execution_count": 33,
   "metadata": {},
   "outputs": [
    {
     "name": "stdout",
     "output_type": "stream",
     "text": [
      "tensor([ 82.3919, 917.3896, 992.6756,   0.9942])\n"
     ]
    }
   ],
   "source": [
    "uniform = prior.get_joint_uniform()\n",
    "sample = uniform.sample()\n",
    "print(sample)"
   ]
  },
  {
   "cell_type": "code",
   "execution_count": 34,
   "metadata": {},
   "outputs": [
    {
     "data": {
      "text/plain": [
       "ModelParams(individuals_local=82, individuals_meta=917, species_meta=993, speciation_local=0.9942167401313782, speciation_meta=0.05, extinction_meta=0.05, env_sigma=0.5, trait_sigma=1, comp_sigma=0.5, dispersal_prob=0.1, mutation_rate=0.01, equilib_escape=1, num_basepairs=250, init_type='oceanic_island', niter=20000, niterTimestep=10)"
      ]
     },
     "execution_count": 34,
     "metadata": {},
     "output_type": "execute_result"
    }
   ],
   "source": [
    "prior.get_params_from_tensor(sample)"
   ]
  },
  {
   "cell_type": "markdown",
   "metadata": {},
   "source": [
    "## Running a Single Simulation and Extracting Summary Statistics\n",
    "\n",
    "This cell executes a single simulation run. First, it initializes a `Simulator` object. Then, it samples a set of parameter values (`theta`) from the `prior` distribution defined in the previous cell. Finally, it runs the simulation using these sampled parameters and stores the resulting summary statistics in the `stats` variable. The `stats` variable is then printed to display the simulation output."
   ]
  },
  {
   "cell_type": "code",
   "execution_count": 15,
   "metadata": {},
   "outputs": [
    {
     "name": "stderr",
     "output_type": "stream",
     "text": [
      "R[write to console]: Using GitHub PAT from the git credential store.\n",
      "\n"
     ]
    },
    {
     "name": "stdout",
     "output_type": "stream",
     "text": [
      "Installing the 'roleR' R package from GitHub...\n"
     ]
    },
    {
     "name": "stderr",
     "output_type": "stream",
     "text": [
      "R[write to console]: Skipping install of 'roleR' from a github remote, the SHA1 (cc6546a1) has not changed since last install.\n",
      "  Use `force = TRUE` to force installation\n",
      "\n"
     ]
    },
    {
     "data": {
      "text/html": [
       "<div>\n",
       "<style scoped>\n",
       "    .dataframe tbody tr th:only-of-type {\n",
       "        vertical-align: middle;\n",
       "    }\n",
       "\n",
       "    .dataframe tbody tr th {\n",
       "        vertical-align: top;\n",
       "    }\n",
       "\n",
       "    .dataframe thead th {\n",
       "        text-align: right;\n",
       "    }\n",
       "</style>\n",
       "<table border=\"1\" class=\"dataframe\">\n",
       "  <thead>\n",
       "    <tr style=\"text-align: right;\">\n",
       "      <th></th>\n",
       "      <th>hill_abund_1</th>\n",
       "      <th>hill_abund_2</th>\n",
       "      <th>hill_abund_3</th>\n",
       "      <th>hill_abund_4</th>\n",
       "      <th>hill_gen_1</th>\n",
       "      <th>hill_gen_2</th>\n",
       "      <th>hill_gen_3</th>\n",
       "      <th>hill_gen_4</th>\n",
       "      <th>hill_trait_1</th>\n",
       "      <th>hill_trait_2</th>\n",
       "      <th>hill_trait_3</th>\n",
       "      <th>hill_trait_4</th>\n",
       "      <th>hill_phy_1</th>\n",
       "      <th>hill_phy_2</th>\n",
       "      <th>hill_phy_3</th>\n",
       "      <th>hill_phy_4</th>\n",
       "      <th>richness</th>\n",
       "      <th>iteration</th>\n",
       "    </tr>\n",
       "  </thead>\n",
       "  <tbody>\n",
       "    <tr>\n",
       "      <th>1</th>\n",
       "      <td>1.000000</td>\n",
       "      <td>1.000000</td>\n",
       "      <td>1.000000</td>\n",
       "      <td>1.000000</td>\n",
       "      <td>1.0</td>\n",
       "      <td>inf</td>\n",
       "      <td>inf</td>\n",
       "      <td>inf</td>\n",
       "      <td>NaN</td>\n",
       "      <td>NaN</td>\n",
       "      <td>NaN</td>\n",
       "      <td>NaN</td>\n",
       "      <td>1</td>\n",
       "      <td>2</td>\n",
       "      <td>3</td>\n",
       "      <td>4</td>\n",
       "      <td>1</td>\n",
       "      <td>0.0</td>\n",
       "    </tr>\n",
       "    <tr>\n",
       "      <th>2</th>\n",
       "      <td>1.085318</td>\n",
       "      <td>1.027872</td>\n",
       "      <td>1.020905</td>\n",
       "      <td>1.018561</td>\n",
       "      <td>1.0</td>\n",
       "      <td>inf</td>\n",
       "      <td>inf</td>\n",
       "      <td>inf</td>\n",
       "      <td>12.288123</td>\n",
       "      <td>12.190888</td>\n",
       "      <td>12.178855</td>\n",
       "      <td>12.174792</td>\n",
       "      <td>1</td>\n",
       "      <td>2</td>\n",
       "      <td>3</td>\n",
       "      <td>4</td>\n",
       "      <td>3</td>\n",
       "      <td>10.0</td>\n",
       "    </tr>\n",
       "    <tr>\n",
       "      <th>3</th>\n",
       "      <td>1.215104</td>\n",
       "      <td>1.071802</td>\n",
       "      <td>1.053658</td>\n",
       "      <td>1.047559</td>\n",
       "      <td>1.0</td>\n",
       "      <td>inf</td>\n",
       "      <td>inf</td>\n",
       "      <td>inf</td>\n",
       "      <td>10.475486</td>\n",
       "      <td>9.849676</td>\n",
       "      <td>9.583395</td>\n",
       "      <td>9.398694</td>\n",
       "      <td>1</td>\n",
       "      <td>2</td>\n",
       "      <td>3</td>\n",
       "      <td>4</td>\n",
       "      <td>5</td>\n",
       "      <td>20.0</td>\n",
       "    </tr>\n",
       "    <tr>\n",
       "      <th>4</th>\n",
       "      <td>1.305684</td>\n",
       "      <td>1.102628</td>\n",
       "      <td>1.076479</td>\n",
       "      <td>1.067704</td>\n",
       "      <td>1.0</td>\n",
       "      <td>inf</td>\n",
       "      <td>inf</td>\n",
       "      <td>inf</td>\n",
       "      <td>10.239388</td>\n",
       "      <td>9.523377</td>\n",
       "      <td>9.312366</td>\n",
       "      <td>9.186464</td>\n",
       "      <td>1</td>\n",
       "      <td>2</td>\n",
       "      <td>3</td>\n",
       "      <td>4</td>\n",
       "      <td>6</td>\n",
       "      <td>30.0</td>\n",
       "    </tr>\n",
       "    <tr>\n",
       "      <th>5</th>\n",
       "      <td>1.460749</td>\n",
       "      <td>1.151469</td>\n",
       "      <td>1.112291</td>\n",
       "      <td>1.099222</td>\n",
       "      <td>1.0</td>\n",
       "      <td>inf</td>\n",
       "      <td>inf</td>\n",
       "      <td>inf</td>\n",
       "      <td>10.852278</td>\n",
       "      <td>9.783607</td>\n",
       "      <td>9.512071</td>\n",
       "      <td>9.359168</td>\n",
       "      <td>1</td>\n",
       "      <td>2</td>\n",
       "      <td>3</td>\n",
       "      <td>4</td>\n",
       "      <td>8</td>\n",
       "      <td>40.0</td>\n",
       "    </tr>\n",
       "    <tr>\n",
       "      <th>...</th>\n",
       "      <td>...</td>\n",
       "      <td>...</td>\n",
       "      <td>...</td>\n",
       "      <td>...</td>\n",
       "      <td>...</td>\n",
       "      <td>...</td>\n",
       "      <td>...</td>\n",
       "      <td>...</td>\n",
       "      <td>...</td>\n",
       "      <td>...</td>\n",
       "      <td>...</td>\n",
       "      <td>...</td>\n",
       "      <td>...</td>\n",
       "      <td>...</td>\n",
       "      <td>...</td>\n",
       "      <td>...</td>\n",
       "      <td>...</td>\n",
       "      <td>...</td>\n",
       "    </tr>\n",
       "    <tr>\n",
       "      <th>1997</th>\n",
       "      <td>17.761049</td>\n",
       "      <td>10.658000</td>\n",
       "      <td>7.689903</td>\n",
       "      <td>6.394210</td>\n",
       "      <td>1.0</td>\n",
       "      <td>inf</td>\n",
       "      <td>inf</td>\n",
       "      <td>inf</td>\n",
       "      <td>19.146536</td>\n",
       "      <td>13.374450</td>\n",
       "      <td>11.049208</td>\n",
       "      <td>9.935524</td>\n",
       "      <td>1</td>\n",
       "      <td>2</td>\n",
       "      <td>3</td>\n",
       "      <td>4</td>\n",
       "      <td>32</td>\n",
       "      <td>19960.0</td>\n",
       "    </tr>\n",
       "    <tr>\n",
       "      <th>1998</th>\n",
       "      <td>17.669318</td>\n",
       "      <td>11.090531</td>\n",
       "      <td>8.216348</td>\n",
       "      <td>6.866524</td>\n",
       "      <td>1.0</td>\n",
       "      <td>inf</td>\n",
       "      <td>inf</td>\n",
       "      <td>inf</td>\n",
       "      <td>18.692686</td>\n",
       "      <td>13.301414</td>\n",
       "      <td>11.151575</td>\n",
       "      <td>10.114152</td>\n",
       "      <td>1</td>\n",
       "      <td>2</td>\n",
       "      <td>3</td>\n",
       "      <td>4</td>\n",
       "      <td>32</td>\n",
       "      <td>19970.0</td>\n",
       "    </tr>\n",
       "    <tr>\n",
       "      <th>1999</th>\n",
       "      <td>17.667825</td>\n",
       "      <td>11.435622</td>\n",
       "      <td>8.542201</td>\n",
       "      <td>7.136278</td>\n",
       "      <td>1.0</td>\n",
       "      <td>inf</td>\n",
       "      <td>inf</td>\n",
       "      <td>inf</td>\n",
       "      <td>18.234371</td>\n",
       "      <td>13.314085</td>\n",
       "      <td>11.282301</td>\n",
       "      <td>10.272765</td>\n",
       "      <td>1</td>\n",
       "      <td>2</td>\n",
       "      <td>3</td>\n",
       "      <td>4</td>\n",
       "      <td>31</td>\n",
       "      <td>19980.0</td>\n",
       "    </tr>\n",
       "    <tr>\n",
       "      <th>2000</th>\n",
       "      <td>18.252737</td>\n",
       "      <td>11.789823</td>\n",
       "      <td>8.661209</td>\n",
       "      <td>7.170640</td>\n",
       "      <td>1.0</td>\n",
       "      <td>inf</td>\n",
       "      <td>inf</td>\n",
       "      <td>inf</td>\n",
       "      <td>18.682261</td>\n",
       "      <td>13.853532</td>\n",
       "      <td>11.765990</td>\n",
       "      <td>10.749410</td>\n",
       "      <td>1</td>\n",
       "      <td>2</td>\n",
       "      <td>3</td>\n",
       "      <td>4</td>\n",
       "      <td>31</td>\n",
       "      <td>19990.0</td>\n",
       "    </tr>\n",
       "    <tr>\n",
       "      <th>2001</th>\n",
       "      <td>18.664094</td>\n",
       "      <td>12.407451</td>\n",
       "      <td>9.295946</td>\n",
       "      <td>7.738877</td>\n",
       "      <td>1.0</td>\n",
       "      <td>inf</td>\n",
       "      <td>inf</td>\n",
       "      <td>inf</td>\n",
       "      <td>18.956822</td>\n",
       "      <td>14.082939</td>\n",
       "      <td>11.907940</td>\n",
       "      <td>10.815192</td>\n",
       "      <td>1</td>\n",
       "      <td>2</td>\n",
       "      <td>3</td>\n",
       "      <td>4</td>\n",
       "      <td>31</td>\n",
       "      <td>20000.0</td>\n",
       "    </tr>\n",
       "  </tbody>\n",
       "</table>\n",
       "<p>2001 rows × 18 columns</p>\n",
       "</div>"
      ],
      "text/plain": [
       "      hill_abund_1  hill_abund_2  hill_abund_3  hill_abund_4  hill_gen_1  \\\n",
       "1         1.000000      1.000000      1.000000      1.000000         1.0   \n",
       "2         1.085318      1.027872      1.020905      1.018561         1.0   \n",
       "3         1.215104      1.071802      1.053658      1.047559         1.0   \n",
       "4         1.305684      1.102628      1.076479      1.067704         1.0   \n",
       "5         1.460749      1.151469      1.112291      1.099222         1.0   \n",
       "...            ...           ...           ...           ...         ...   \n",
       "1997     17.761049     10.658000      7.689903      6.394210         1.0   \n",
       "1998     17.669318     11.090531      8.216348      6.866524         1.0   \n",
       "1999     17.667825     11.435622      8.542201      7.136278         1.0   \n",
       "2000     18.252737     11.789823      8.661209      7.170640         1.0   \n",
       "2001     18.664094     12.407451      9.295946      7.738877         1.0   \n",
       "\n",
       "      hill_gen_2  hill_gen_3  hill_gen_4  hill_trait_1  hill_trait_2  \\\n",
       "1            inf         inf         inf           NaN           NaN   \n",
       "2            inf         inf         inf     12.288123     12.190888   \n",
       "3            inf         inf         inf     10.475486      9.849676   \n",
       "4            inf         inf         inf     10.239388      9.523377   \n",
       "5            inf         inf         inf     10.852278      9.783607   \n",
       "...          ...         ...         ...           ...           ...   \n",
       "1997         inf         inf         inf     19.146536     13.374450   \n",
       "1998         inf         inf         inf     18.692686     13.301414   \n",
       "1999         inf         inf         inf     18.234371     13.314085   \n",
       "2000         inf         inf         inf     18.682261     13.853532   \n",
       "2001         inf         inf         inf     18.956822     14.082939   \n",
       "\n",
       "      hill_trait_3  hill_trait_4  hill_phy_1  hill_phy_2  hill_phy_3  \\\n",
       "1              NaN           NaN           1           2           3   \n",
       "2        12.178855     12.174792           1           2           3   \n",
       "3         9.583395      9.398694           1           2           3   \n",
       "4         9.312366      9.186464           1           2           3   \n",
       "5         9.512071      9.359168           1           2           3   \n",
       "...            ...           ...         ...         ...         ...   \n",
       "1997     11.049208      9.935524           1           2           3   \n",
       "1998     11.151575     10.114152           1           2           3   \n",
       "1999     11.282301     10.272765           1           2           3   \n",
       "2000     11.765990     10.749410           1           2           3   \n",
       "2001     11.907940     10.815192           1           2           3   \n",
       "\n",
       "      hill_phy_4  richness  iteration  \n",
       "1              4         1        0.0  \n",
       "2              4         3       10.0  \n",
       "3              4         5       20.0  \n",
       "4              4         6       30.0  \n",
       "5              4         8       40.0  \n",
       "...          ...       ...        ...  \n",
       "1997           4        32    19960.0  \n",
       "1998           4        32    19970.0  \n",
       "1999           4        31    19980.0  \n",
       "2000           4        31    19990.0  \n",
       "2001           4        31    20000.0  \n",
       "\n",
       "[2001 rows x 18 columns]"
      ]
     },
     "execution_count": 15,
     "metadata": {},
     "output_type": "execute_result"
    }
   ],
   "source": [
    "from roler.simulation import Simulator\n",
    "\n",
    "simulator = Simulator()\n",
    "theta = prior.sample()\n",
    "stats = simulator.simulate(theta)\n",
    "stats"
   ]
  },
  {
   "cell_type": "markdown",
   "metadata": {},
   "source": [
    "## Graphing Richness over Iteration"
   ]
  },
  {
   "cell_type": "code",
   "execution_count": 16,
   "metadata": {},
   "outputs": [
    {
     "name": "stderr",
     "output_type": "stream",
     "text": [
      "Matplotlib is building the font cache; this may take a moment.\n"
     ]
    },
    {
     "data": {
      "image/png": "[encoded data removed]",
      "text/plain": [
       "<Figure size 640x480 with 1 Axes>"
      ]
     },
     "metadata": {},
     "output_type": "display_data"
    }
   ],
   "source": [
    "import matplotlib.pyplot as plt\n",
    "\n",
    "plt.plot(stats['iteration'], stats['richness'])\n",
    "plt.xlabel('Iteration')\n",
    "plt.ylabel('Richness')\n",
    "plt.title('Richness over Iteration')\n",
    "plt.show()"
   ]
  }
 ],
 "metadata": {
  "kernelspec": {
   "display_name": ".venv",
   "language": "python",
   "name": "python3"
  },
  "language_info": {
   "codemirror_mode": {
    "name": "ipython",
    "version": 3
   },
   "file_extension": ".py",
   "mimetype": "text/x-python",
   "name": "python",
   "nbconvert_exporter": "python",
   "pygments_lexer": "ipython3",
   "version": "3.12.9"
  }
 },
 "nbformat": 4,
 "nbformat_minor": 2
}
